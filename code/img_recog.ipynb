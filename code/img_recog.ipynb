{
 "cells": [
  {
   "cell_type": "markdown",
   "id": "09541492",
   "metadata": {},
   "source": [
    "### Image Recognition using SVM"
   ]
  },
  {
   "cell_type": "code",
   "execution_count": 4,
   "id": "277e7b6f",
   "metadata": {},
   "outputs": [
    {
     "data": {
      "text/plain": [
       "dict_keys(['data', 'target', 'frame', 'feature_names', 'target_names', 'images', 'DESCR'])"
      ]
     },
     "execution_count": 4,
     "metadata": {},
     "output_type": "execute_result"
    }
   ],
   "source": [
    "from sklearn.datasets import load_digits\n",
    "digits = load_digits()\n",
    "X_digits, y_digits = digits.data, digits.target \n",
    "\n",
    "digits.keys()"
   ]
  },
  {
   "cell_type": "code",
   "execution_count": 6,
   "id": "b9b500a1",
   "metadata": {},
   "outputs": [
    {
     "data": {
      "image/png": "[encoded data removed]",
      "text/plain": [
       "<Figure size 1000x452 with 10 Axes>"
      ]
     },
     "metadata": {},
     "output_type": "display_data"
    }
   ],
   "source": [
    "import matplotlib.pyplot as plt\n",
    "n_row, n_col = 2,5\n",
    "\n",
    "def print_digits(images, y, max_n = 10):\n",
    "    fig = plt.figure(figsize = (2. * n_col, 2.26 * n_row))\n",
    "    \n",
    "    i = 0\n",
    "    while i < max_n and i < images.shape[0]:\n",
    "        p = fig.add_subplot(n_row, n_col, i+1, xticks =[],yticks = [])\n",
    "        p.imshow(images[i], cmap = plt.cm.bone, interpolation = \"nearest\")\n",
    "        p.text(0, -1, str(y[i]))\n",
    "        i = i + 1\n",
    "\n",
    "print_digits(digits.images, digits.target, max_n = 10) "
   ]
  }
 ],
 "metadata": {
  "kernelspec": {
   "display_name": "image_venv",
   "language": "python",
   "name": "python3"
  },
  "language_info": {
   "codemirror_mode": {
    "name": "ipython",
    "version": 3
   },
   "file_extension": ".py",
   "mimetype": "text/x-python",
   "name": "python",
   "nbconvert_exporter": "python",
   "pygments_lexer": "ipython3",
   "version": "3.12.3"
  }
 },
 "nbformat": 4,
 "nbformat_minor": 5
}
